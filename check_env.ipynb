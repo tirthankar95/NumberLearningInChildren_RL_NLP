{
 "cells": [
  {
   "cell_type": "code",
   "execution_count": 1,
   "metadata": {},
   "outputs": [],
   "source": [
    "import numpy as np  \n",
    "import matplotlib.pyplot as plt \n",
    "import copy\n",
    "import sys\n",
    "import random"
   ]
  },
  {
   "cell_type": "code",
   "execution_count": 2,
   "metadata": {},
   "outputs": [],
   "source": [
    "import os\n",
    "sys.path.append(f'{os.getcwd()}/RL_Environment')"
   ]
  },
  {
   "cell_type": "code",
   "execution_count": 3,
   "metadata": {},
   "outputs": [
    {
     "name": "stdout",
     "output_type": "stream",
     "text": [
      "pygame 2.1.0 (SDL 2.0.16, Python 3.9.7)\n",
      "Hello from the pygame community. https://www.pygame.org/contribute.html\n"
     ]
    }
   ],
   "source": [
    "from rl_nlp_world import *"
   ]
  },
  {
   "cell_type": "code",
   "execution_count": 4,
   "metadata": {},
   "outputs": [
    {
     "data": {
      "image/png": "[encoded data removed]",
      "text/plain": [
       "<Figure size 432x288 with 1 Axes>"
      ]
     },
     "metadata": {
      "needs_background": "light"
     },
     "output_type": "display_data"
    },
    {
     "name": "stdout",
     "output_type": "stream",
     "text": [
      "This is twenty one. There are 0 blocks in hundred's place, 0 blocks in ten's place and 0 blocks in unit's place.\n",
      "ACTION 1\n"
     ]
    },
    {
     "data": {
      "image/png": "[encoded data removed]",
      "text/plain": [
       "<Figure size 432x288 with 1 Axes>"
      ]
     },
     "metadata": {
      "needs_background": "light"
     },
     "output_type": "display_data"
    },
    {
     "name": "stdout",
     "output_type": "stream",
     "text": [
      "This is twenty one. There are 0 blocks in hundred's place, 0 blocks in ten's place and 0 blocks in unit's place. You are holding a ten block.\n",
      "ACTION 3\n",
      "Cumulative Reward ~ -0.9; TimeTaken ~ 2\n"
     ]
    }
   ],
   "source": [
    "# random policy\n",
    "def policy(observation):\n",
    "    global action_indx\n",
    "    # PICK_BIG=0\n",
    "    # PICK_MED=1\n",
    "    # PICK_SMALL=2\n",
    "    # PUT_BIG=3\n",
    "    # PUT_MED=4\n",
    "    # PUT_SMALL=5\n",
    "    return random.randint(0, 5)\n",
    "\n",
    "def displayState(observation):\n",
    "    mirror_image = np.flip(observation['visual'], axis=0)\n",
    "    rotated_image = np.rot90(mirror_image, k=-1)\n",
    "    plt.imshow(rotated_image)\n",
    "    plt.show()\n",
    "    print(observation['text'])\n",
    "    sys.stdout.flush()\n",
    "\n",
    "env = RlNlpWorld(render_mode=\"rgb_array\", instr_type = \"state\")\n",
    "episodes = 1\n",
    "for _ in range(episodes):\n",
    "    cumulative_reward,steps=0,0\n",
    "    observation = env.reset(set_no = 21)\n",
    "    while True:\n",
    "        displayState(observation)\n",
    "        action = policy(copy.deepcopy(observation))  # User-defined policy function\n",
    "        print(f'ACTION {action}')\n",
    "        observation, reward, terminated, info = env.step(action)\n",
    "        cumulative_reward+=reward\n",
    "        steps+=1\n",
    "        if terminated:\n",
    "            break\n",
    "    print(f'Cumulative Reward ~ {cumulative_reward}; TimeTaken ~ {steps}')\n",
    "env.close()"
   ]
  }
 ],
 "metadata": {
  "kernelspec": {
   "display_name": "base",
   "language": "python",
   "name": "python3"
  },
  "language_info": {
   "codemirror_mode": {
    "name": "ipython",
    "version": 3
   },
   "file_extension": ".py",
   "mimetype": "text/x-python",
   "name": "python",
   "nbconvert_exporter": "python",
   "pygments_lexer": "ipython3",
   "version": "3.9.7"
  }
 },
 "nbformat": 4,
 "nbformat_minor": 2
}
